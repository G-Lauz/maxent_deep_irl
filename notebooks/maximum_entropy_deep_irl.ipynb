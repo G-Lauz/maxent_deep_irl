{
 "cells": [
  {
   "cell_type": "markdown",
   "id": "4141fa558dfefe8c",
   "metadata": {},
   "source": [
    "# Maximum Entropy Deep Inverse Reinforcement Learning\n",
    "Based on the paper \"Maximum Entropy Deep Inverse Reinforcement Learning\" by Wulfmeier et al. [\\[1\\]](#references).\n",
    "\n",
    "[CS 285: Lecture 19, Control as Inference, Part 1](https://www.youtube.com/watch?v=MzVlYYGtg0M&list=PL_iWQOsE6TfVYGEGiAOMaOzzv41Jfm_Ps&index=77) --> Introduce the concept of computing the backward and forward pass, used later in the Maximum Entropy Inverse Reinforcement Learning paper [\\[2\\]](#references).\n",
    "[CS 285: Lecture 19, Control as Inference, Part 2](https://www.youtube.com/watch?v=1NgU3EKHlpY&list=PL_iWQOsE6TfVYGEGiAOMaOzzv41Jfm_Ps&index=78) -->\n",
    "\n",
    "\\begin{equation}\n",
    "\n",
    "    \\beta_t(s_t,a_t) = P(\\mathcal{O}_{t:T} | s_t, a_t) \\propto \\exp(r(s_t, a_t))\n",
    "\n",
    "\\end{equation}\n",
    "\n",
    "\\begin{equation}\n",
    "\n",
    "    \\pi(s_t) = P(a_t | s_t, \\mathcal{O}_{1:T}) = \\frac{\\beta_t(s_t, a_t)}{\\beta_t(s_t)}\n",
    "\n",
    "\\end{equation}\n",
    "\n",
    "\\begin{equation}\n",
    "\n",
    "    \\alpha_t(s_t) = P(s_t | \\mathcal{O}_{1:t-1})\n",
    "\n",
    "\\end{equation}\n",
    "\n",
    "Where $\\beta$ is the backward message, $\\pi$ the policy, $\\alpha$ the forward messages, $t:T$ means from time $t$ to the end of the trajectory, and where $\\mathcal{O}$ is the probability of optimality/observed.\n",
    "\n",
    "### Backward pass\n",
    "The backward pass is defined as the probability of the trajectory given the state and action at time $t$. And can be rewritten as a recursive function as shown by [CS 285: Lecture 19, Control as Inference, Part 2](https://www.youtube.com/watch?v=1NgU3EKHlpY&list=PL_iWQOsE6TfVYGEGiAOMaOzzv41Jfm_Ps&index=78):\n",
    "\n",
    "\\begin{equation}\n",
    "\n",
    "    \\beta_t(s_t,a_t) = P(\\mathcal{O}_t | s_t, a_t) \\mathbb{E}_{s_{t+1} \\sim P(s_{t+1} | s_t, a_t)}[\\beta_{t+1}(s_{t+1})]\n",
    "\n",
    "\\end{equation}\n",
    "\n",
    "\\begin{equation}\n",
    "\n",
    "    \\beta_T(s_T) = \\mathbb{E}_{a_t \\sim P(a_t | s_t)}[\\beta_t(s_t, a_t)]\n",
    "\n",
    "\\end{equation}\n",
    "\n",
    "But this approach is not ideal as it modified the dynamics hence, the transition probabilities.\n",
    "\n",
    "### Compute the policy\n",
    "\n",
    "\\begin{equation}\n",
    "\n",
    "    \\pi(s_t) = P(a_t | s_t, \\mathcal{O}_{1:T}) = \\frac{\\beta_t(s_t, a_t)}{\\beta_t(s_t)}\n",
    "\n",
    "\\end{equation}\n",
    "\n",
    "Could be rewritten as the exponantial of the advantage function $\\mathcal{A}$ as shown in [CS 285: Lecture 19, Control as Inference, Part 2](https://www.youtube.com/watch?v=1NgU3EKHlpY&list=PL_iWQOsE6TfVYGEGiAOMaOzzv41Jfm_Ps&index=78) where we can add a temperature parameter $\\alpha$ where the policy approaches the greedy policy as $\\alpha$ approaches 0:\n",
    "\n",
    "\\begin{equation}\n",
    "\n",
    "    \\pi(a_t | s_t) = \\exp(\\frac{1}{\\alpha}Q_t(s_t, a_t) - \\frac{1}{\\alpha}V_t(s_t)) = \\exp(\\frac{1}{\\alpha}\\mathcal{A}_t(s_t, a_t))\n",
    "\n",
    "\\end{equation}\n",
    "\n",
    "### Forward pass\n",
    "The forward pass is defined as the probability of the state at time $t$ given the observations from time $1$ to $t-1$. And can be rewritten as a recursive function as shown by [CS 285: Lecture 19, Control as Inference, Part 2](https://www.youtube.com/watch?v=1NgU3EKHlpY&list=PL_iWQOsE6TfVYGEGiAOMaOzzv41Jfm_Ps&index=78):\n",
    "\n",
    "\\begin{equation}\n",
    "\n",
    "    \\alpha_t(s_t) = P(s_t | \\mathcal{0}_{1:t-1}) \\propto \\int \\frac{\\mathcal{P} \\mathcal{R} \\alpha_{t-1}(s_{t-1})}{P(\\mathcal{O}_{t-1} | \\mathcal{O}_{1:t-2})} ds_{t-1} da_{t-1}\n",
    "    \n",
    "\\end{equation}\n",
    "\n",
    "Where $\\mathcal{P}$ is the transition probabilities, $\\mathcal{R}$ the reward function, and $P(\\mathcal{O}_{t-1} | \\mathcal{O}_{1:t-2})$ is the probability of the observations at time $t-1$ given the observations from time $1$ to $t-2$.\n",
    "\n",
    "### Estimating the expectation\n",
    "[CS 285: Lecture 20, Inverse Reinforcement Learning, Part 2](https://www.youtube.com/watch?v=82Sr9YqeQNc&list=PL_iWQOsE6TfVYGEGiAOMaOzzv41Jfm_Ps&index=83) -->\n",
    "\n",
    "\\begin{equation}\n",
    "\n",
    "    \\mu_t(s_t, a_t) \\propto \\beta(s_t, a_t) \\alpha(s_t)\n",
    "\n",
    "\\end{equation}\n",
    "\n",
    "Where $\\mu_t$ is the state-action marginals.\n",
    "\n",
    "### Approximation in High Dimensional Spaces and in Continuous Spaces\n",
    "According to [CS 285: Lecture 20, Inverse Reinforcement Learning, Part 3](https://www.youtube.com/watch?v=OsO2nLfxZVQ&list=PL_iWQOsE6TfVYGEGiAOMaOzzv41Jfm_Ps&index=84) The previous techniques does not apply well to large and continuous state actions spaces problems, but it is also not robust to unknown dynamics. A solution to this problem is to use importance sampling to estimate the expectation.\n"
   ]
  },
  {
   "cell_type": "code",
   "execution_count": 25,
   "id": "18c832c4e3d2b7d0",
   "metadata": {
    "ExecuteTime": {
     "end_time": "2024-06-06T13:15:59.809522Z",
     "start_time": "2024-06-06T13:15:53.232608Z"
    }
   },
   "outputs": [],
   "source": [
    "import matplotlib.pyplot as plt\n",
    "import numpy\n",
    "import torch\n",
    "import tqdm"
   ]
  },
  {
   "cell_type": "markdown",
   "id": "e811c37f05633e93",
   "metadata": {
    "collapsed": false
   },
   "source": [
    "## A small and simple Markov Decision Process (MDP)\n",
    "Let's define the following MDP like the one used in [toy_mdp.py](../src/maxent_deep_irl/environments/toy_mdp.py). It will be use as a toy example to test the different algorithms.\n",
    "\n",
    "<div style=\"text-align: center;\">\n",
    "    <img\n",
    "        style=\"display: block; margin-left: auto; margin-right: auto;\"\n",
    "        alt=\"Toy MDP\"\n",
    "        src=\"../assets/toy_mdp.png\">\n",
    "    </img>\n",
    "</div>"
   ]
  },
  {
   "cell_type": "code",
   "execution_count": 26,
   "id": "aa745b6bd802ed02",
   "metadata": {
    "ExecuteTime": {
     "end_time": "2024-06-06T13:15:59.816725Z",
     "start_time": "2024-06-06T13:15:59.809522Z"
    },
    "collapsed": false
   },
   "outputs": [],
   "source": [
    "class ToyMDP():\n",
    "    def __init__(self):\n",
    "        self.n_states = 2\n",
    "        self.n_actions = 2\n",
    "\n",
    "        self.gamma = 0.5\n",
    "\n",
    "        # P(s' | s, a): dim(n_states, n_states, n_actions)\n",
    "        self.transition_probabilities = torch.tensor([\n",
    "            [ # State 0 (s')\n",
    "                # State 0, State 1 (s)\n",
    "                [0.5, 0.0], # Action 0\n",
    "                [0.0, 1.0]  # Action 1\n",
    "            ],\n",
    "            [ # State 1 (from)\n",
    "                # State 0, State 1 (to)\n",
    "                [0.5, 1.0], # Action 0\n",
    "                [1.0, 0.0]  # Action 1\n",
    "            ]\n",
    "        ])\n",
    "\n",
    "        self.reward = torch.tensor(\n",
    "            [3.0, -1.0]\n",
    "        )"
   ]
  },
  {
   "cell_type": "code",
   "execution_count": 27,
   "id": "d3da8427d8c00fae",
   "metadata": {
    "ExecuteTime": {
     "end_time": "2024-06-06T13:15:59.836732Z",
     "start_time": "2024-06-06T13:15:59.816725Z"
    },
    "collapsed": false
   },
   "outputs": [
    {
     "name": "stdout",
     "output_type": "stream",
     "text": [
      "P(s'=0 | s=0, a=0) = 0.5\n",
      "P(s'=0 | s=0, a=1) = 0.0\n",
      "P(s'=0 | s=1, a=0) = 0.0\n",
      "P(s'=0 | s=1, a=1) = 1.0\n",
      "P(s'=1 | s=0, a=0) = 0.5\n",
      "P(s'=1 | s=0, a=1) = 1.0\n",
      "P(s'=1 | s=1, a=0) = 1.0\n",
      "P(s'=1 | s=1, a=1) = 0.0\n"
     ]
    }
   ],
   "source": [
    "mdp = ToyMDP()\n",
    "\n",
    "# P(s' | s, a)\n",
    "for s_prime in range(mdp.n_states):\n",
    "    for s in range(mdp.n_states):\n",
    "        for a in range(mdp.n_actions):\n",
    "            print(f\"P(s'={s_prime} | s={s}, a={a}) = {mdp.transition_probabilities[s_prime, s, a]}\")"
   ]
  },
  {
   "cell_type": "markdown",
   "id": "fa2c96d4ef9dac04",
   "metadata": {},
   "source": [
    "## Soft value iteration\n",
    "\n",
    "Stochastic value iteration based on the paper \"Maximum Entropy Deep Inverse Reinforcement Learning\" by Wulfmeier et al. [\\[1\\]](#references). See also [CS 285: Lecture 19, Control as Inference, Part 3](https://www.youtube.com/watch?v=PAvT1Ypvmm4&list=PL_iWQOsE6TfVYGEGiAOMaOzzv41Jfm_Ps&index=79) by Sergey Levine.\n",
    "\n",
    "The main difference with the deterministic value iteration algorithm is that it use a _soft max_ instead of a _max_ to compute the value function. Where _soft max_ isn't the _softmax_ function used in classical machine learning but a smooth approximation of the _max_ function below used  as the _log-sum-exp_ function from PyTorch.\n",
    "\n",
    "\\begin{equation}\n",
    "\n",
    "    \\mathcal{Q}_t(s_t, a_t) = r(s_t, a_t) + \\mathbb{E}[V_{t+1}(s_{t+1})]\n",
    "\n",
    "\\end{equation}\n",
    "\n",
    "\\begin{equation}\n",
    "\n",
    "    V_{t+1}(s_{t+1}) = \\log \\int \\exp(\\mathcal{Q}_t(s_t, a_t))da_t\n",
    "\n",
    "\\end{equation}\n",
    "\n",
    "Variation of the previous result could be used to add a temperature parameter to the value function as shown at the end of [CS 285: Lecture 19 Control as Inference, Part 3](https://www.youtube.com/watch?v=PAvT1Ypvmm4&list=PL_iWQOsE6TfVYGEGiAOMaOzzv41Jfm_Ps&index=79), when this temperature parameter tend to zero, the value function tend more toward an _hard max_ value function used in the deterministic value iteration algorithm. There's also another variant that apply a discount horizon to the action-value function $\\mathcal{Q}_t(s_t, a_t)$ which change the dynamics (transition probabilities) over time:\n",
    "\n",
    "\\begin{equation}\n",
    "\n",
    "    \\mathcal{Q}_t(s_t, a_t) = r(s_t, a_t) + \\gamma \\mathbb{E}[V_{t+1}(s_{t+1})]\n",
    "    \n",
    "\\end{equation}\n",
    "\n",
    "\\begin{equation}\n",
    "\n",
    "    V_t(s_t) = \\alpha \\log \\int \\exp(\\frac{1}{\\alpha}\\mathcal{Q}_t(s_t, a_t)) da_t\n",
    "    \n",
    "\\end{equation}"
   ]
  },
  {
   "cell_type": "code",
   "execution_count": 28,
   "id": "20ab21481f09c217",
   "metadata": {
    "ExecuteTime": {
     "end_time": "2024-06-06T13:15:59.888786Z",
     "start_time": "2024-06-06T13:15:59.837741Z"
    }
   },
   "outputs": [
    {
     "name": "stdout",
     "output_type": "stream",
     "text": [
      "Value function: tensor([5.0440, 1.6937])\n",
      "Policy:\n",
      "\tpi(0) = tensor([0.6980, 0.3020])\n",
      "\tpi(1) = tensor([0.1577, 0.8423])\n"
     ]
    }
   ],
   "source": [
    "def soft_value_iteration(transition_probabilities, reward, gamma, epsilon, max_iteration=1000):\n",
    "    \"\"\"\n",
    "    Args:\n",
    "        transition_probabilities dim(n_states, n_states, n_actions): A tensor representing the transition probabilities of the MDP.\n",
    "        reward dim(n_states): A tensor representing the reward of the MDP.\n",
    "        gamma: The discount factor gamma in [0, 1].\n",
    "        epsilon: A small threshold epsilon > 0 determining the accuracy of the estimation.\n",
    "\n",
    "    Returns:\n",
    "        value_function dim(n_states): The optimal value function.\n",
    "        policy dim(n_states): The optimal policy.\n",
    "    \"\"\"\n",
    "    n_states, _, n_actions = transition_probabilities.shape\n",
    "\n",
    "    V = torch.full((n_states,), -1E6)\n",
    "\n",
    "    for iteration in range(max_iteration):\n",
    "        Vt = V.clone()\n",
    "\n",
    "        Q = torch.zeros((n_states, n_actions))\n",
    "        for s in range(n_states):\n",
    "            for a in range(n_actions):\n",
    "                Q[s, a] = reward[s] + gamma * torch.sum(transition_probabilities[:, s, a] * Vt)\n",
    "\n",
    "        V = torch.logsumexp(Q, dim=1) # soft-max over actions\n",
    "\n",
    "        delta = torch.max(torch.abs(Vt - V))\n",
    "\n",
    "        if delta < epsilon:\n",
    "            break\n",
    "\n",
    "    pi = torch.exp(Q - V.reshape(-1, 1))\n",
    "\n",
    "    return pi, V\n",
    "\n",
    "\n",
    "# Test the value iteration algorithm\n",
    "toy_mdp = ToyMDP()\n",
    "policy, value_function = soft_value_iteration(toy_mdp.transition_probabilities, toy_mdp.reward, toy_mdp.gamma, epsilon=1e-5)\n",
    "\n",
    "print(f\"Value function: {value_function}\")\n",
    "print(f\"Policy:\")\n",
    "print(f\"\\tpi(0) = {policy[0]}\")\n",
    "print(f\"\\tpi(1) = {policy[1]}\")"
   ]
  },
  {
   "cell_type": "markdown",
   "id": "81a09633a18d2668",
   "metadata": {
    "collapsed": false
   },
   "source": [
    "## Retrieve the optimal policy with soft value iteration\n",
    "As shown in the backard pass by [\\[2\\]](#references) and by [CS 285: Lecture 19, Control as Inference, Part 2](https://www.youtube.com/watch?v=1NgU3EKHlpY&list=PL_iWQOsE6TfVYGEGiAOMaOzzv41Jfm_Ps&index=78), the optimal policy can also be computed as:\n",
    "\n",
    "\\begin{equation}\n",
    "\n",
    "    \\pi(a_t | s_t) = \\frac{\\beta_t(s_t, a_t)}{\\beta_t(s_t)}\n",
    "\n",
    "\\end{equation}"
   ]
  },
  {
   "cell_type": "code",
   "execution_count": 29,
   "id": "ecf684377575aebe",
   "metadata": {
    "ExecuteTime": {
     "end_time": "2024-06-06T13:15:59.900131Z",
     "start_time": "2024-06-06T13:15:59.888786Z"
    },
    "collapsed": false
   },
   "outputs": [
    {
     "name": "stdout",
     "output_type": "stream",
     "text": [
      "pi(0) = tensor([0.9066, 0.0934])\n",
      "pi(1) = tensor([0.3555, 0.6445])\n"
     ]
    }
   ],
   "source": [
    "def policy_from_soft_value_iteration(transition_probabilities, reward, gamma, epsilon=1e-5, max_iteration=1000):\n",
    "    \"\"\"\n",
    "    Args:\n",
    "        transition_probabilities dim(n_states, n_states, n_actions): A tensor representing the transition probabilities of the MDP defined as P(s' | s, a) where the dimension should correspond to the tuple (s', s, a).\n",
    "        reward dim(n_states): A tensor representing the reward of the MDP per states.\n",
    "        gamma: The discount factor gamma in [0, 1].\n",
    "\n",
    "    Returns:\n",
    "        policy dim(n_states, n_actions): The optimal policy P(s | a).\n",
    "    \"\"\"\n",
    "    n_states, _, n_actions = transition_probabilities.shape\n",
    "\n",
    "    beta_s = torch.ones(n_states)\n",
    "\n",
    "    old_policy = torch.ones((n_states, n_actions)) / n_actions\n",
    "\n",
    "    for iteration in range(max_iteration):\n",
    "        beta_s_a = torch.sum(transition_probabilities * gamma * torch.exp(reward)[:, None, None] * beta_s[None, :, None], dim=1)\n",
    "        beta_s = torch.sum(beta_s_a, dim=1)\n",
    "\n",
    "        policy = beta_s_a / beta_s[:, None]\n",
    "\n",
    "        delta = torch.max(torch.abs(old_policy - policy))\n",
    "        if delta < epsilon:\n",
    "            break\n",
    "\n",
    "        old_policy = policy.clone()\n",
    "\n",
    "    return policy\n",
    "\n",
    "toy_mdp = ToyMDP()\n",
    "policy  = policy_from_soft_value_iteration(toy_mdp.transition_probabilities, toy_mdp.reward, toy_mdp.gamma)\n",
    "print(f\"pi(0) = {policy[0]}\")\n",
    "print(f\"pi(1) = {policy[1]}\")"
   ]
  },
  {
   "cell_type": "markdown",
   "id": "46eb43a17e1cbee1",
   "metadata": {},
   "source": [
    "## Policy propagation\n",
    "Algorithm 3 from the paper [\\[1\\]](#references) is implemented below. It could also be derived from the forward pass algorithm in [\\[2, 3\\]](#references)"
   ]
  },
  {
   "cell_type": "code",
   "execution_count": 30,
   "id": "26021935af75c7da",
   "metadata": {
    "ExecuteTime": {
     "end_time": "2024-06-06T13:16:49.018072Z",
     "start_time": "2024-06-06T13:16:48.993532Z"
    }
   },
   "outputs": [],
   "source": [
    "def propagate_policy(policy, transition_probabilities, trajectories, initial_state_distribution):\n",
    "    \"\"\"\n",
    "    Compute the expected state visiting frequencies by probabilistically traversing the MDP under the given policy.\n",
    "\n",
    "    Args:\n",
    "        policy dim(n_states, n_actions): The policy to propagate.\n",
    "        transition_probabilities dim(n_states, n_states, n_actions): A tensor representing the transition probabilities of the MDP.\n",
    "        epsilon: A small threshold epsilon > 0 determining the accuracy of the estimation.\n",
    "        n_trajectories: The number of trajectories to sample.\n",
    "    \"\"\"\n",
    "    \"\"\"\n",
    "    Propagate the policy through the environment dynamics as shown in the algorithm 3 of (Wulfmeir & al, 2016).\n",
    "\n",
    "    :param policy: The policy of shape (n_states, n_actions).\n",
    "    \"\"\"\n",
    "    n_states, _, n_actions = transition_probabilities.shape\n",
    "    n_trajectories = len(trajectories)\n",
    "\n",
    "    state_visitation_frequency = torch.zeros((n_trajectories, n_states))\n",
    "    state_visitation_frequency[0] = initial_state_distribution.probs\n",
    "\n",
    "    for t in range(1, n_trajectories):\n",
    "        new_state_visitation_frequency = state_visitation_frequency.clone()\n",
    "        new_state_visitation_frequency[t] = torch.sum(torch.sum(transition_probabilities * policy * state_visitation_frequency[t - 1].reshape(-1, 1), dim=1), dim=1)\n",
    "        state_visitation_frequency = new_state_visitation_frequency\n",
    "    state_visitation_frequency = state_visitation_frequency.sum(dim=0) / n_trajectories\n",
    "\n",
    "    return state_visitation_frequency"
   ]
  },
  {
   "cell_type": "markdown",
   "id": "714cea1add958617",
   "metadata": {
    "collapsed": false
   },
   "source": [
    "## Deep Neural Network\n",
    "\n",
    "Even though this title mentions a deep neural network, the paper [\\[1\\]](#references) explain that a sufficiently large neural network with at least one hidden layer can approximate the value function. Therefore, we will use a simple MLP with one hidden layer to approximate the value function."
   ]
  },
  {
   "cell_type": "code",
   "execution_count": 31,
   "id": "fe64295f74a08b7",
   "metadata": {
    "ExecuteTime": {
     "end_time": "2024-06-06T13:15:59.914452Z",
     "start_time": "2024-06-06T13:15:59.907282Z"
    },
    "collapsed": false
   },
   "outputs": [],
   "source": [
    "class RewardNet(torch.nn.Module):\n",
    "    def __init__(self, n_states):\n",
    "        super().__init__()\n",
    "\n",
    "        self.net = torch.nn.Sequential(\n",
    "            torch.nn.Linear(n_states, 8),\n",
    "            torch.nn.ReLU(),\n",
    "            torch.nn.Linear(8, 16),\n",
    "            torch.nn.ReLU(),\n",
    "            torch.nn.Linear(16, 1)\n",
    "        )\n",
    "\n",
    "    def forward(self, x):\n",
    "        return self.net(x)"
   ]
  },
  {
   "cell_type": "markdown",
   "id": "9892098af7febd5a",
   "metadata": {
    "collapsed": false
   },
   "source": [
    "## Maximum Entropy Deep Inverse Reinforcement Learning\n",
    "First we will use the `deterministic_value_iteration` function developed in [value_iteration.ipynb](value_iteration.ipynb) to compute the optimal value function. This will be used to retrieve the expected value differences as a metric to evaluate the training of the reward network."
   ]
  },
  {
   "cell_type": "code",
   "execution_count": 32,
   "id": "fbbc4be1315a8607",
   "metadata": {
    "collapsed": false
   },
   "outputs": [],
   "source": [
    "from maxent_deep_irl import deterministic_value_iteration"
   ]
  },
  {
   "cell_type": "markdown",
   "id": "63d8f05477c6a3b3",
   "metadata": {
    "collapsed": false
   },
   "source": [
    "As shown in the algorithm 1 and in the section 3.1. Training procedure of ([Wulfmeir & al., 2016](#references)) we will need to retrieve the state-action frequency from the demonstrations which will also be used to retrieve the feature expectation like:\n",
    "\n",
    "\\begin{equation}\n",
    "\n",
    "    \\mu_{\\mathcal{D}} = \\sum^{\\mathcal{A}}_{a=1} \\mu^a_{\\mathcal{D}}\n",
    "\n",
    "\\end{equation}"
   ]
  },
  {
   "cell_type": "code",
   "execution_count": 33,
   "id": "5000502a7c92b8d1",
   "metadata": {
    "collapsed": false
   },
   "outputs": [],
   "source": [
    "def state_action_frequency(n_states, n_actions, trajectories):\n",
    "    \"\"\"\n",
    "    Compute the state-action frequency from the given trajectory as shown in the section 3.1. Training Procedure of (Wulfmeir & al, 2016).\n",
    "    \"\"\"\n",
    "\n",
    "    state_action_counts = torch.zeros(n_states, n_actions)\n",
    "    for trajectory in trajectories:\n",
    "        for state, action in trajectory:\n",
    "            state_action_counts[state, action] += 1\n",
    "\n",
    "    state_action_freq = state_action_counts.float() / len(trajectories)\n",
    "\n",
    "    # Scale the state-action frequency to sum to 1\n",
    "    state_action_freq /= state_action_freq.sum()\n",
    "\n",
    "    return state_action_freq\n",
    "\n",
    "def feature_expectation(demonstrations):\n",
    "    \"\"\"\n",
    "    Compute the feature expectation from the given trajectories.\n",
    "    \"\"\"\n",
    "    n_trajectories, n_steps, feature_dim = demonstrations.shape\n",
    "    feature_expectation = torch.zeros(feature_dim)\n",
    "\n",
    "    for trajectory in demonstrations:\n",
    "        for state, _ in trajectory:\n",
    "            feature_expectation[state] += 1.0\n",
    "\n",
    "    return feature_expectation / n_trajectories"
   ]
  },
  {
   "cell_type": "code",
   "execution_count": 34,
   "id": "e90585c622a13aa6",
   "metadata": {
    "ExecuteTime": {
     "end_time": "2024-06-06T13:15:59.925147Z",
     "start_time": "2024-06-06T13:15:59.915961Z"
    },
    "collapsed": false
   },
   "outputs": [],
   "source": [
    "def maxent_deep_irl(reward_net, optimizer, transition_probabilities, reward, initial_state_distribution, epochs, gamma):\n",
    "    \"\"\"\n",
    "    Train the reward network using the Maximum Entropy Deep Inverse Reinforcement Learning (MaxEnt Deep IRL) algorithm\n",
    "    as shown in the algorithm 1 of (Wulfmeir & al, 2016).\n",
    "\n",
    "    :return: The reward of shape (n_states,) and a dictionary of metrics accumulated during the training.\n",
    "    \"\"\"\n",
    "    n_states, _, n_actions = transition_probabilities.shape\n",
    "\n",
    "    optimal_value_function, _, _ = deterministic_value_iteration(transition_probabilities, reward, gamma, epsilon=1E-5)\n",
    "\n",
    "    state_action_freq = state_action_frequency(n_states, n_actions, demonstrations)\n",
    "    feature_expectation = state_action_freq.sum(dim=1)\n",
    "\n",
    "    features = torch.eye(n_states)\n",
    "\n",
    "    expected_value_differences = []\n",
    "    losses = []\n",
    "    policies = []\n",
    "    rewards = []\n",
    "    learned_value_function = None\n",
    "\n",
    "    for epoch in tqdm.tqdm(range(epochs), disable=False):\n",
    "        reward_estimation = reward_net(features).flatten()\n",
    "\n",
    "        policy, learned_value_function = soft_value_iteration(transition_probabilities, reward_estimation.detach(), gamma, epsilon=1E-5)\n",
    "        state_visitation_frequency = propagate_policy(policy, transition_probabilities, demonstrations, initial_state_distribution)\n",
    "\n",
    "        expected_value_difference = torch.abs(optimal_value_function - learned_value_function)\n",
    "\n",
    "        loss = -torch.sum(torch.log(policy + 1E-6) * state_action_freq, dim=0)\n",
    "        loss_gradient = feature_expectation - state_visitation_frequency\n",
    "\n",
    "        optimizer.zero_grad()\n",
    "        reward_estimation.backward(-loss_gradient)\n",
    "        optimizer.step()\n",
    "\n",
    "        expected_value_differences.append(expected_value_difference.detach().numpy())\n",
    "        losses.append(loss.detach().numpy())\n",
    "        policies.append(policy.detach().numpy())\n",
    "        rewards.append(reward_estimation.detach().numpy())\n",
    "\n",
    "    metrics = {\n",
    "        \"expected_value_differences\": expected_value_differences,\n",
    "        \"value_functions\": learned_value_function,\n",
    "        \"losses\": losses,\n",
    "        \"policies\": policies,\n",
    "        \"rewards\": rewards\n",
    "    }\n",
    "\n",
    "    reward = reward_net(features).flatten()\n",
    "    return reward, metrics"
   ]
  },
  {
   "cell_type": "markdown",
   "id": "4b4f6a04bcd79f40",
   "metadata": {
    "collapsed": false
   },
   "source": [
    "## Value Iteration agent as expert demonstration\n",
    "We will use an agent based on the deterministic value iteration defined in [value_iteration.py](../src/maxent_deep_irl/value_iteration.py) to generate expert demonstrations."
   ]
  },
  {
   "cell_type": "code",
   "execution_count": 35,
   "id": "aae9a63655e1653a",
   "metadata": {
    "ExecuteTime": {
     "end_time": "2024-06-06T13:16:03.774268Z",
     "start_time": "2024-06-06T13:15:59.925147Z"
    },
    "collapsed": false
   },
   "outputs": [],
   "source": [
    "class ValueIterationAgent:\n",
    "    def __init__(self, mdp, gamma=0.99, epsilon=1E-5, save_value_functions=False):\n",
    "        _, self.policy, self.value_functions = deterministic_value_iteration(\n",
    "            mdp.transition_probabilities,\n",
    "            mdp.reward,\n",
    "            gamma,\n",
    "            epsilon=epsilon,\n",
    "            save_value_functions=save_value_functions\n",
    "        )\n",
    "\n",
    "    def act(self, state):\n",
    "        return torch.argmax(self.policy[state])\n",
    "\n",
    "    def get_value_functions(self):\n",
    "        return self.value_functions\n",
    "\n",
    "    def get_policy(self):\n",
    "        return self.policy"
   ]
  },
  {
   "cell_type": "code",
   "execution_count": 36,
   "id": "37cf7576baed8dd8",
   "metadata": {
    "collapsed": false
   },
   "outputs": [
    {
     "name": "stdout",
     "output_type": "stream",
     "text": [
      "Generated 10 demonstrations\n",
      "Trajectory 1: [(1, 1), (0, 0), (0, 0), (1, 1), (0, 0), (0, 0), (1, 1), (0, 0), (0, 0), (1, 1)]\n",
      "Trajectory 2: [(0, 0), (0, 0), (1, 1), (0, 0), (1, 1), (0, 0), (0, 0), (0, 0), (0, 0), (0, 0)]\n",
      "Trajectory 3: [(1, 1), (0, 0), (1, 1), (0, 0), (0, 0), (0, 0), (1, 1), (0, 0), (1, 1), (0, 0)]\n",
      "Trajectory 4: [(1, 1), (0, 0), (0, 0), (0, 0), (1, 1), (0, 0), (0, 0), (0, 0), (0, 0), (0, 0)]\n",
      "Trajectory 5: [(0, 0), (1, 1), (0, 0), (0, 0), (1, 1), (0, 0), (1, 1), (0, 0), (1, 1), (0, 0)]\n",
      "Trajectory 6: [(1, 1), (0, 0), (1, 1), (0, 0), (0, 0), (0, 0), (1, 1), (0, 0), (1, 1), (0, 0)]\n",
      "Trajectory 7: [(0, 0), (1, 1), (0, 0), (0, 0), (1, 1), (0, 0), (1, 1), (0, 0), (1, 1), (0, 0)]\n",
      "Trajectory 8: [(0, 0), (1, 1), (0, 0), (1, 1), (0, 0), (0, 0), (0, 0), (1, 1), (0, 0), (1, 1)]\n",
      "Trajectory 9: [(1, 1), (0, 0), (1, 1), (0, 0), (1, 1), (0, 0), (1, 1), (0, 0), (0, 0), (1, 1)]\n",
      "Trajectory 10: [(1, 1), (0, 0), (1, 1), (0, 0), (0, 0), (0, 0), (0, 0), (1, 1), (0, 0), (1, 1)]\n"
     ]
    }
   ],
   "source": [
    "def generate_demonstrations(agent, mdp, initial_state_distribution, n_trajectories, n_steps=10, seed=0):\n",
    "    torch.manual_seed(seed)\n",
    "    numpy.random.seed(seed)\n",
    "\n",
    "    demonstrations = []\n",
    "    for _ in range(n_trajectories):\n",
    "        trajectory = []\n",
    "\n",
    "        # Sample initial state\n",
    "        state = initial_state_distribution.sample().item()\n",
    "\n",
    "        for _ in range(n_steps):\n",
    "            action = agent.act(state).item()\n",
    "            trajectory.append((state, action))\n",
    "            state_probabilities = mdp.transition_probabilities[:, state, action]\n",
    "            state = torch.distributions.Categorical(state_probabilities).sample().item()\n",
    "\n",
    "        demonstrations.append(trajectory)\n",
    "\n",
    "    return demonstrations\n",
    "\n",
    "# Generate expert demonstrations\n",
    "mdp = ToyMDP()\n",
    "agent = ValueIterationAgent(mdp)\n",
    "\n",
    "initial_state_distribution = torch.ones(mdp.n_states) / mdp.n_states\n",
    "initial_state_distribution = torch.distributions.Categorical(initial_state_distribution)\n",
    "\n",
    "demonstrations = generate_demonstrations(agent, mdp, initial_state_distribution, n_trajectories=10, n_steps=10, seed=0)\n",
    "\n",
    "print(f\"Generated {len(demonstrations)} demonstrations\")\n",
    "for idx, demonstration in enumerate(demonstrations[:10]):\n",
    "    print(f\"Trajectory {idx + 1}: {demonstration}\")"
   ]
  },
  {
   "cell_type": "markdown",
   "id": "3dc963e59fb7c46e",
   "metadata": {
    "collapsed": false
   },
   "source": [
    "## Training"
   ]
  },
  {
   "cell_type": "code",
   "execution_count": 37,
   "id": "d9f87cabcc7061b2",
   "metadata": {
    "ExecuteTime": {
     "end_time": "2024-06-06T13:22:19.099134Z",
     "start_time": "2024-06-06T13:16:57.934936Z"
    },
    "collapsed": false
   },
   "outputs": [
    {
     "name": "stderr",
     "output_type": "stream",
     "text": [
      "100%|██████████| 100/100 [00:00<00:00, 113.76it/s]"
     ]
    },
    {
     "name": "stdout",
     "output_type": "stream",
     "text": [
      "Real reward: tensor([ 3., -1.])\n",
      "Estimated reward: tensor([  7.7170, -11.4627], grad_fn=<ViewBackward0>)\n"
     ]
    },
    {
     "name": "stderr",
     "output_type": "stream",
     "text": [
      "\n"
     ]
    }
   ],
   "source": [
    "mdp = ToyMDP()\n",
    "\n",
    "expert_agent = ValueIterationAgent(mdp)\n",
    "\n",
    "initial_state_distribution = torch.ones(mdp.n_states) / mdp.n_states\n",
    "initial_state_distribution = torch.distributions.Categorical(initial_state_distribution)\n",
    "\n",
    "demonstrations = generate_demonstrations(expert_agent, mdp, initial_state_distribution, n_trajectories=100, n_steps=30, seed=0)\n",
    "\n",
    "reward_net = RewardNet(mdp.n_states)\n",
    "optimizer = torch.optim.Adam(reward_net.parameters(), lr=1E-2)\n",
    "\n",
    "rewards, metrics = maxent_deep_irl(reward_net, optimizer, mdp.transition_probabilities, mdp.reward, initial_state_distribution, epochs=100, gamma=mdp.gamma)\n",
    "\n",
    "print(f\"Real reward: {mdp.reward}\")\n",
    "print(f\"Estimated reward: {rewards}\")"
   ]
  },
  {
   "cell_type": "code",
   "execution_count": 38,
   "id": "7216b3d2f2c9750d",
   "metadata": {
    "collapsed": false
   },
   "outputs": [
    {
     "data": {
      "image/png": "[encoded data removed]",
      "text/plain": [
       "<Figure size 640x480 with 1 Axes>"
      ]
     },
     "metadata": {},
     "output_type": "display_data"
    },
    {
     "data": {
      "image/png": "[encoded data removed]",
      "text/plain": [
       "<Figure size 640x480 with 1 Axes>"
      ]
     },
     "metadata": {},
     "output_type": "display_data"
    },
    {
     "data": {
      "image/png": "[encoded data removed]",
      "text/plain": [
       "<Figure size 640x480 with 1 Axes>"
      ]
     },
     "metadata": {},
     "output_type": "display_data"
    },
    {
     "data": {
      "image/png": "[encoded data removed]",
      "text/plain": [
       "<Figure size 640x480 with 1 Axes>"
      ]
     },
     "metadata": {},
     "output_type": "display_data"
    },
    {
     "data": {
      "image/png": "[encoded data removed]",
      "text/plain": [
       "<Figure size 400x400 with 1 Axes>"
      ]
     },
     "metadata": {},
     "output_type": "display_data"
    },
    {
     "data": {
      "image/png": "[encoded data removed]",
      "text/plain": [
       "<Figure size 640x480 with 2 Axes>"
      ]
     },
     "metadata": {},
     "output_type": "display_data"
    }
   ],
   "source": [
    "def plot_value_function(value_function):\n",
    "    plt.figure()\n",
    "    plt.imshow(value_function.reshape(1, 2), cmap=\"hot\", interpolation=\"nearest\")\n",
    "    plt.title(\"Value function\")\n",
    "    plt.xticks(range(2))\n",
    "    plt.yticks(range(1))\n",
    "\n",
    "\n",
    "def plot_policy(policy):\n",
    "    action_symbols = [\"Stay\", \"Switch\"]\n",
    "    policy = policy.argmax(axis=1).reshape(1, 2)\n",
    "\n",
    "    fig, ax = plt.subplots(1, 1, figsize=(4, 4))\n",
    "    checkerboard_pattern = numpy.indices((1, 2)).sum(axis=0) % 2\n",
    "    ax.imshow(checkerboard_pattern, cmap=\"Wistia\")\n",
    "\n",
    "    ax.set_title(\"Policy\")\n",
    "    ax.set_xticks(range(2))\n",
    "    ax.set_yticks(range(1))\n",
    "\n",
    "    for i in range(2):\n",
    "        ax.text(i, 0, action_symbols[policy[0, i]], color=\"black\", ha=\"center\", va=\"center\")\n",
    "\n",
    "\n",
    "def plot_reward(reward, mdp):\n",
    "    fig, axes = plt.subplots(1, 2)\n",
    "\n",
    "    axes[0].imshow(mdp.reward.reshape(1, 2), cmap=\"hot\", interpolation=\"nearest\")\n",
    "    axes[0].set_title(\"Real reward\")\n",
    "    axes[0].set_xticks(range(2))\n",
    "    axes[0].set_yticks(range(1))\n",
    "\n",
    "    axes[1].imshow(reward.reshape(1, 2), cmap=\"hot\", interpolation=\"nearest\")\n",
    "    axes[1].set_title(\"Estimated reward\")\n",
    "    axes[1].set_xticks(range(2))\n",
    "    axes[1].set_yticks(range(1))\n",
    "\n",
    "\n",
    "def plot_metrics(metrics, mdp):\n",
    "    expected_value_differences = numpy.array(metrics[\"expected_value_differences\"])\n",
    "    losses = numpy.array(metrics[\"losses\"])\n",
    "    policies = metrics[\"policies\"]\n",
    "    rewards = numpy.array(metrics[\"rewards\"])\n",
    "    value_functions = metrics[\"value_functions\"]\n",
    "\n",
    "    plt.figure()\n",
    "    plt.plot(expected_value_differences)\n",
    "    plt.xlabel(\"Epoch\")\n",
    "    plt.ylabel(\"Expected value difference\")\n",
    "    plt.title(\"Expected value difference\")\n",
    "\n",
    "    plt.figure()\n",
    "    plt.plot(losses)\n",
    "    plt.xlabel(\"Epoch\")\n",
    "    plt.ylabel(\"Loss\")\n",
    "    plt.title(\"Loss\")\n",
    "\n",
    "    plt.figure()\n",
    "    for state in range(mdp.n_states):\n",
    "        plt.plot(rewards[:, state], label=f\"State {state}\")\n",
    "    plt.xlabel(\"Epoch\")\n",
    "    plt.ylabel(\"Reward\")\n",
    "    plt.title(\"Reward\")\n",
    "    plt.legend()\n",
    "\n",
    "    plot_value_function(value_functions)\n",
    "    plot_policy(policies[-1])\n",
    "    plot_reward(rewards[-1], mdp)\n",
    "\n",
    "    plt.show()\n",
    "\n",
    "plot_metrics(metrics, mdp)"
   ]
  },
  {
   "cell_type": "markdown",
   "id": "89970177",
   "metadata": {},
   "source": [
    "## Going further\n",
    "For more complexe example take a look at the [Windy Gridworld example](../examples/windy_gridworld.py)."
   ]
  },
  {
   "cell_type": "markdown",
   "id": "b8e02c5bb3d96bd9",
   "metadata": {},
   "source": [
    "## References\n",
    "\n",
    "[1]&emsp; M. Wulfmeier, P. Ondruska, et I. Posner, «Maximum Entropy Deep Inverse Reinforcement Learning». arXiv, 11 mars 2016. doi: 10.48550/arXiv.1507.04888.\n",
    "\n",
    "[2]&emsp; B. D. Ziebart, A. Maas, J. A. Bagnell, and A. K. Dey, “Maximum entropy inverse reinforcement learning,” in Proceedings of the 23rd national conference on Artificial intelligence - Volume 3, in AAAI’08. Chicago, Illinois: AAAI Press, juillet 2008, pp. 1433–1438.\n",
    "\n",
    "[3]&emsp; K. M. Kitani, B. D. Ziebart, J. A. Bagnell, and M. Hebert, “Activity Forecasting,” in Computer Vision – ECCV 2012, A. Fitzgibbon, S. Lazebnik, P. Perona, Y. Sato, and C. Schmid, Eds., Berlin, Heidelberg: Springer, 2012, pp. 201–214. doi: 10.1007/978-3-642-33765-9_15."
   ]
  }
 ],
 "metadata": {
  "kernelspec": {
   "display_name": "Python 3",
   "language": "python",
   "name": "python3"
  },
  "language_info": {
   "codemirror_mode": {
    "name": "ipython",
    "version": 3
   },
   "file_extension": ".py",
   "mimetype": "text/x-python",
   "name": "python",
   "nbconvert_exporter": "python",
   "pygments_lexer": "ipython3",
   "version": "3.11.5"
  }
 },
 "nbformat": 4,
 "nbformat_minor": 5
}
